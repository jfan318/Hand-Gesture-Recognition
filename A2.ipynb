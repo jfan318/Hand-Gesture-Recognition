{
 "cells": [
  {
   "cell_type": "markdown",
   "metadata": {},
   "source": [
    "### CS 585 Assignment 2\n",
    "> **Name**:   Jiayin Fan<br>\n",
    "> **Email**:      jfan22@bu.edu<br>\n",
    "> **Student ID**: U80694562<br>"
   ]
  },
  {
   "cell_type": "code",
   "execution_count": 57,
   "metadata": {},
   "outputs": [],
   "source": [
    "import numpy as np\n",
    "import cv2"
   ]
  },
  {
   "cell_type": "code",
   "execution_count": 58,
   "metadata": {},
   "outputs": [],
   "source": [
    "def bgDifferencing(region, background):\n",
    "    diff = cv2.absdiff(np.uint8(background), region)\n",
    "    _, thresholded = cv2.threshold(diff, 25, 255, cv2.THRESH_BINARY)\n",
    "\n",
    "    contours, _ = cv2.findContours(thresholded.copy(), cv2.RETR_EXTERNAL, cv2.CHAIN_APPROX_SIMPLE)\n",
    "    \n",
    "    if len(contours) == 0:\n",
    "        return None\n",
    "    else:\n",
    "        segmented = max(contours, key=cv2.contourArea)\n",
    "        return (thresholded, segmented)"
   ]
  },
  {
   "cell_type": "code",
   "execution_count": 59,
   "metadata": {},
   "outputs": [],
   "source": [
    "def recognize_gesture(segmented):\n",
    "    # Ensure that segmented is the largest contour and is valid for processing\n",
    "    # Calculate the convex hull with returnPoints=True\n",
    "    hull = cv2.convexHull(segmented, returnPoints=True)\n",
    "    \n",
    "    # Now, convert hull points back to format expected by convexityDefects\n",
    "    hull_indices = cv2.convexHull(segmented, returnPoints=False)\n",
    "    if len(hull_indices) > 3:\n",
    "        try:\n",
    "            defects = cv2.convexityDefects(segmented, hull_indices)\n",
    "            if defects is not None:\n",
    "                cnt = 0  # Counter for defects\n",
    "                for i in range(defects.shape[0]):\n",
    "                    s, e, f, d = defects[i][0]\n",
    "                    start = tuple(segmented[s][0])\n",
    "                    end = tuple(segmented[e][0])\n",
    "                    far = tuple(segmented[f][0])\n",
    "                    a = np.sqrt((end[0] - start[0])**2 + (end[1] - start[1])**2)\n",
    "                    b = np.sqrt((far[0] - start[0])**2 + (far[1] - start[1])**2)\n",
    "                    c = np.sqrt((end[0] - far[0])**2 + (end[1] - far[1])**2)\n",
    "                    angle = np.arccos((b**2 + c**2 - a**2) / (2*b*c))  # cosine theorem\n",
    "                    if angle <= np.pi / 2:  # angle less than 90 degree, treat as a defect\n",
    "                        cnt += 1\n",
    "                if cnt > 0:\n",
    "                    return \"Hand Open\"\n",
    "                else:\n",
    "                    return \"Fist\"\n",
    "        except Exception as e:\n",
    "            print(f\"Error in calculating defects: {e}\")\n",
    "    return \"Unknown\"\n"
   ]
  },
  {
   "cell_type": "code",
   "execution_count": 60,
   "metadata": {},
   "outputs": [],
   "source": [
    "# Main loop to get input from the camera\n",
    "def captureCamera():\n",
    "\n",
    "    # Init frame counter, bg indicator and caliration time\n",
    "    frames_elapsed = 0\n",
    "    background = None\n",
    "    CALIBRATION_TIME = 30\n",
    "    BG_WEIGHT = 0.5 \n",
    "\n",
    "    # Define region of interest bounds\n",
    "    roi_x, roi_y, roi_width, roi_height = 0, 0, 600, 600\n",
    "\n",
    "    cap = cv2.VideoCapture(0)\n",
    "\n",
    "    while True:\n",
    "        ret, frame = cap.read()\n",
    "\n",
    "        # Filp the video for easier testing; turn it into grayscale and blur it\n",
    "        frame = cv2.flip(frame, 1)\n",
    "\n",
    "        # Increment the frames_elapsed counter\n",
    "        frames_elapsed += 1\n",
    "\n",
    "        # Extract the ROI from the frame\n",
    "        roi = frame[roi_y:roi_y+roi_height, roi_x:roi_x+roi_width]\n",
    "        gray_roi = cv2.cvtColor(roi, cv2.COLOR_BGR2GRAY)\n",
    "        gray_roi = cv2.GaussianBlur(gray_roi, (7, 7), 0)\n",
    "        \n",
    "        # Process the ROI with gesture recognition methods\n",
    "        if frames_elapsed < CALIBRATION_TIME:\n",
    "            if background is None:\n",
    "                background = np.float32(gray_roi)\n",
    "            else:\n",
    "                cv2.accumulateWeighted(gray_roi, background, BG_WEIGHT)\n",
    "            frames_elapsed += 1\n",
    "            cv2.putText(frame, 'Calibrating...', (roi_x + 10, roi_y + 20), cv2.FONT_HERSHEY_SIMPLEX, 0.5, (0, 0, 255), 2)\n",
    "        else:\n",
    "            # Background subtraction\n",
    "            hand = bgDifferencing(gray_roi, background)\n",
    "\n",
    "            # Gesture recognition\n",
    "            if hand is not None:\n",
    "                (thresholded, segmented) = hand\n",
    "                cv2.drawContours(roi, [segmented + (roi_x, roi_y)], -1, (0, 255, 0))\n",
    "                gesture = recognize_gesture(segmented)\n",
    "                cv2.putText(frame, gesture, (roi_x, roi_y - 10), cv2.FONT_HERSHEY_SIMPLEX, 0.5, (0, 0, 255), 2)\n",
    "                cv2.imshow(\"Thresholded\", thresholded)\n",
    "        \n",
    "        # Display the ROI\n",
    "        cv2.rectangle(frame, (roi_x, roi_y), (roi_x+roi_width, roi_y+roi_height), (0, 255, 0), 2)\n",
    "        \n",
    "        cv2.imshow('Gesture Recognition', frame)\n",
    "        \n",
    "        # Stop capturing when pressing \"q\"\n",
    "        if cv2.waitKey(1) & 0xFF == ord('q'):\n",
    "            break\n",
    "\n",
    "    cap.release()\n",
    "    cv2.destroyAllWindows()"
   ]
  },
  {
   "cell_type": "code",
   "execution_count": 61,
   "metadata": {},
   "outputs": [
    {
     "name": "stdout",
     "output_type": "stream",
     "text": [
      "Error in calculating defects: OpenCV(4.9.0) /Users/runner/work/opencv-python/opencv-python/opencv/modules/imgproc/src/convhull.cpp:360: error: (-5:Bad argument) The convex hull indices are not monotonous, which can be in the case when the input contour contains self-intersections in function 'convexityDefects'\n",
      "\n",
      "Error in calculating defects: OpenCV(4.9.0) /Users/runner/work/opencv-python/opencv-python/opencv/modules/imgproc/src/convhull.cpp:360: error: (-5:Bad argument) The convex hull indices are not monotonous, which can be in the case when the input contour contains self-intersections in function 'convexityDefects'\n",
      "\n",
      "Error in calculating defects: OpenCV(4.9.0) /Users/runner/work/opencv-python/opencv-python/opencv/modules/imgproc/src/convhull.cpp:360: error: (-5:Bad argument) The convex hull indices are not monotonous, which can be in the case when the input contour contains self-intersections in function 'convexityDefects'\n",
      "\n",
      "Error in calculating defects: OpenCV(4.9.0) /Users/runner/work/opencv-python/opencv-python/opencv/modules/imgproc/src/convhull.cpp:360: error: (-5:Bad argument) The convex hull indices are not monotonous, which can be in the case when the input contour contains self-intersections in function 'convexityDefects'\n",
      "\n",
      "Error in calculating defects: OpenCV(4.9.0) /Users/runner/work/opencv-python/opencv-python/opencv/modules/imgproc/src/convhull.cpp:360: error: (-5:Bad argument) The convex hull indices are not monotonous, which can be in the case when the input contour contains self-intersections in function 'convexityDefects'\n",
      "\n"
     ]
    }
   ],
   "source": [
    "captureCamera()"
   ]
  },
  {
   "cell_type": "code",
   "execution_count": null,
   "metadata": {},
   "outputs": [],
   "source": []
  }
 ],
 "metadata": {
  "kernelspec": {
   "display_name": "Python 3",
   "language": "python",
   "name": "python3"
  },
  "language_info": {
   "codemirror_mode": {
    "name": "ipython",
    "version": 3
   },
   "file_extension": ".py",
   "mimetype": "text/x-python",
   "name": "python",
   "nbconvert_exporter": "python",
   "pygments_lexer": "ipython3",
   "version": "3.9.13"
  }
 },
 "nbformat": 4,
 "nbformat_minor": 2
}
